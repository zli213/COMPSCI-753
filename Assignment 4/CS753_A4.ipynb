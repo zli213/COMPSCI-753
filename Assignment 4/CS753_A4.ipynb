{
 "cells": [
  {
   "attachments": {},
   "cell_type": "markdown",
   "metadata": {},
   "source": [
    "1. Reading the Data"
   ]
  },
  {
   "cell_type": "code",
   "execution_count": 1,
   "metadata": {},
   "outputs": [
    {
     "name": "stdout",
     "output_type": "stream",
     "text": [
      "[{'user_id': '26d5737b1eaff71248069cde4f590338', 'book_id': '30109111', 'review_id': 'd567c1be612401ee5cbe3da05683561f', 'rating': 5, 'date_added': 'Sun Jun 12 09:38:16 -0700 2016'}, {'user_id': 'e0a970290631fd711484f0d8155f2a06', 'book_id': '7198269', 'review_id': '1fca74b92a06f2cccdc81c1288687495', 'rating': 5, 'date_added': 'Thu May 10 18:37:25 -0700 2012'}, {'user_id': 'cca945e8a7369eeb035afd21527c339b', 'book_id': '32148570', 'review_id': 'e519d8377a10308742dd49f66f4a728a', 'rating': 3, 'date_added': 'Mon May 29 10:32:28 -0700 2017'}, {'user_id': 'd1789d248a75d3cb7c5f16eeee9fe419', 'book_id': '40024', 'review_id': 'a75d9f435773a377fbe81361a1ea19c6', 'rating': 2, 'date_added': 'Mon Jan 26 21:04:34 -0800 2009'}, {'user_id': '819f2797459b579a7782d4bd595e1c36', 'book_id': '3272163', 'review_id': 'cfbc4e10f33bad3bd235f775e1833b2d', 'rating': 3, 'date_added': 'Wed Jun 25 12:12:10 -0700 2014'}, {'user_id': '7d0b0d563843507c71f867720801d84e', 'book_id': '361056', 'review_id': '41556ee650e292fe914816abf9455062', 'rating': 1, 'date_added': 'Fri Oct 19 06:54:29 -0700 2007'}, {'user_id': 'b85e8348c1e1f6ed6ae8e76bb6de7f15', 'book_id': '10855973', 'review_id': 'be2a3aa400602d43bdbc5c5196235088', 'rating': 5, 'date_added': 'Thu May 17 13:29:51 -0700 2012'}, {'user_id': '17d3a7342670ec8c47777296bfe71709', 'book_id': '15802432', 'review_id': '398c3f730486a30af1cf9be55700d5d1', 'rating': 4, 'date_added': 'Sun Apr 14 07:38:58 -0700 2013'}, {'user_id': '750e558376102be2392d6f80a77c186f', 'book_id': '53645', 'review_id': '808757067ba063061a494142cbaeab1f', 'rating': 4, 'date_added': 'Mon Jun 09 10:53:05 -0700 2008'}, {'user_id': 'ac87d8e90ac47cd3cc69baf88857650e', 'book_id': '2318271', 'review_id': '8e0e4899a50359a17221a7d50e8c6890', 'rating': 5, 'date_added': 'Sun May 12 17:32:10 -0700 2013'}]\n"
     ]
    }
   ],
   "source": [
    "import json\n",
    "\n",
    "def read_data(filename):\n",
    "    with open(filename, 'r') as file:\n",
    "        data = [json.loads(line) for line in file]\n",
    "    return data\n",
    "\n",
    "train_data = read_data(\"goodreads_reviews_historybio_train.json\")\n",
    "# print the first 10 line of the data\n",
    "print(train_data[:10])\n"
   ]
  },
  {
   "attachments": {},
   "cell_type": "markdown",
   "metadata": {},
   "source": [
    "## Task 1 [10 points]: Explore biases\n",
    "(A) [4 points] The global bg bias"
   ]
  },
  {
   "cell_type": "code",
   "execution_count": 2,
   "metadata": {},
   "outputs": [
    {
     "name": "stdout",
     "output_type": "stream",
     "text": [
      "Global bias bg: 3.7669762808387413\n"
     ]
    }
   ],
   "source": [
    "def calculate_global_bias(data):\n",
    "    total_rating = sum([review['rating'] for review in data])\n",
    "    return total_rating / len(data)\n",
    "\n",
    "bg = calculate_global_bias(train_data)\n",
    "print(f\"Global bias bg: {bg}\")"
   ]
  },
  {
   "attachments": {},
   "cell_type": "markdown",
   "metadata": {},
   "source": [
    "(B) [3 points] The user specific bias of user id= “3913f3be1e8fadc1de34dc49dab06381”"
   ]
  },
  {
   "cell_type": "code",
   "execution_count": 5,
   "metadata": {},
   "outputs": [
    {
     "name": "stdout",
     "output_type": "stream",
     "text": [
      "User bias bu: -0.1139150563489455\n"
     ]
    }
   ],
   "source": [
    "def calculate_user_bias(data, uid, global_bias):\n",
    "    user_reviews = [review for review in data if review['user_id'] == uid]\n",
    "    #calculate the average rating of the user\n",
    "    average_user_rating = sum([review['rating'] for review in user_reviews])/len(user_reviews)\n",
    "    return average_user_rating - global_bias\n",
    "user_id = \"3913f3be1e8fadc1de34dc49dab06381\"\n",
    "\n",
    "print(f\"User bias bu: {calculate_user_bias(train_data, user_id, bg)}\")"
   ]
  },
  {
   "attachments": {},
   "cell_type": "markdown",
   "metadata": {},
   "source": [
    "(C) [3 points] The item specific bias of book id = “16130”."
   ]
  },
  {
   "cell_type": "code",
   "execution_count": 6,
   "metadata": {},
   "outputs": [
    {
     "name": "stdout",
     "output_type": "stream",
     "text": [
      "Item specific bias for book id 16130: 0.4562653093753264\n"
     ]
    }
   ],
   "source": [
    "def calculate_item_bias(data, book_id, global_bias):\n",
    "    item_reviews = [review for review in data if review['book_id'] == book_id]\n",
    "    total_item_bias = sum([review['rating'] for review in item_reviews])/ len(item_reviews)\n",
    "    return total_item_bias -global_bias if item_reviews else 0\n",
    "\n",
    "book_id = \"16130\"\n",
    "b_item = calculate_item_bias(train_data, book_id, bg)\n",
    "print(f\"Item specific bias for book id {book_id}: {b_item}\")"
   ]
  },
  {
   "attachments": {},
   "cell_type": "markdown",
   "metadata": {},
   "source": [
    "## Task 2 [45 points]: Implement the regularized latent factor model without bias using SGD\n",
    "(A) [30 points] Implement the regularized latent factor model without considering the bias."
   ]
  },
  {
   "cell_type": "code",
   "execution_count": 7,
   "metadata": {},
   "outputs": [
    {
     "name": "stdout",
     "output_type": "stream",
     "text": [
      "Epoch 1, RMSE: 3.9371\n",
      "Epoch 2, RMSE: 3.6894\n",
      "Epoch 3, RMSE: 3.4364\n",
      "Epoch 4, RMSE: 3.1195\n",
      "Epoch 5, RMSE: 2.8181\n",
      "Epoch 6, RMSE: 2.5578\n",
      "Epoch 7, RMSE: 2.3350\n",
      "Epoch 8, RMSE: 2.1458\n",
      "Epoch 9, RMSE: 1.9842\n",
      "Epoch 10, RMSE: 1.8458\n"
     ]
    }
   ],
   "source": [
    "import numpy as np\n",
    "\n",
    "# 1. Initialization\n",
    "num_users = len(set([d['user_id'] for d in train_data]))\n",
    "num_items = len(set([d['book_id'] for d in train_data]))\n",
    "k = 8\n",
    "P = np.random.normal(size=(num_users, k))\n",
    "Q = np.random.normal(size=(num_items, k))\n",
    "eta = 0.01\n",
    "lambda1 = lambda2 = 0.3\n",
    "epochs = 10\n",
    "\n",
    "# Mapping user_ids and book_ids to integer indices for easier array operations\n",
    "user_map = {user_id: idx for idx, user_id in enumerate(set([d['user_id'] for d in train_data]))}\n",
    "book_map = {book_id: idx for idx, book_id in enumerate(set([d['book_id'] for d in train_data]))}\n",
    "\n",
    "# 2. SGD\n",
    "for epoch in range(epochs):\n",
    "    np.random.shuffle(train_data)\n",
    "    for review in train_data:\n",
    "        i = user_map[review['user_id']]\n",
    "        j = book_map[review['book_id']]\n",
    "        r_ij = review['rating']\n",
    "        e_ij = r_ij - np.dot(Q[j], P[i])\n",
    "        \n",
    "        # Update using gradients\n",
    "        temp_q = Q[j, :]\n",
    "        Q[j, :] += 2*eta * (e_ij * P[i, :] - lambda1 * Q[j, :])\n",
    "        P[i, :] += 2*eta * (e_ij * temp_q - lambda2 * P[i, :])\n",
    "    \n",
    "    # 3. RMSE Calculation\n",
    "    squared_errors = []\n",
    "    for review in train_data:\n",
    "        i = user_map[review['user_id']]\n",
    "        j = book_map[review['book_id']]\n",
    "        r_ij = review['rating']\n",
    "        squared_errors.append((r_ij - np.dot(Q[j], P[i])) ** 2)\n",
    "    rmse = np.sqrt(np.mean(squared_errors)/len(train_data)\n",
    "    print(f\"Epoch {epoch+1}, RMSE: {rmse:.4f}\")"
   ]
  }
 ],
 "metadata": {
  "kernelspec": {
   "display_name": "Python 3",
   "language": "python",
   "name": "python3"
  },
  "language_info": {
   "codemirror_mode": {
    "name": "ipython",
    "version": 3
   },
   "file_extension": ".py",
   "mimetype": "text/x-python",
   "name": "python",
   "nbconvert_exporter": "python",
   "pygments_lexer": "ipython3",
   "version": "3.9.6"
  },
  "orig_nbformat": 4
 },
 "nbformat": 4,
 "nbformat_minor": 2
}
