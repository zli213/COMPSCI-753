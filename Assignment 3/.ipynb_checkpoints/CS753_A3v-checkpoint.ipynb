{
 "cells": [
  {
   "cell_type": "markdown",
   "metadata": {},
   "source": [
    "(A) [25 points] Implement the power iteration algorithm in matrix form to calculate the rank vector r, without teleport, using the PageRank formulation:\n",
    "r(t+1) = M · r(t)\n",
    "The matrix M is an adjacency matrix representing nodes and edges from your downloaded dataset, with rows representing destination nodes and columns representing source nodes. This matrix is sparse2. Initialize r(0) = [1/N, . . . , 1/N]T . Let the stop criteria of your power iteration algorithm be ||r(t+1) − r(t)||1 < 0.02 (please note the stop criteria involves the L1 norm). Spider traps and dead ends are not considered in this first task."
   ]
  },
  {
   "cell_type": "markdown",
   "metadata": {},
   "source": [
    "Construct the Matrix "
   ]
  },
  {
   "cell_type": "code",
   "execution_count": null,
   "metadata": {},
   "outputs": [],
   "source": [
    "import numpy as np\n",
    "edges = []\n",
    "with open(\"web-BerkStan-final.txt\", \"r\") as file:\n",
    "    for line in file:\n",
    "        src, dest = map(int, line.strip().split())\n",
    "        edges.append((src, dest))\n",
    "# print nodes count N\n",
    "N = len(set([src for src, dest in edges] + [dest for src, dest in edges]))\n",
    "print(\"Nodes count: \", N)\n",
    "\n",
    "M = np.zeros((N, N), dtype=float)\n",
    "\n",
    "for (src, dest) in edges:\n",
    "    M[dest, src] = 1\n",
    "\n",
    "# Normalize the matrix by columns\n",
    "column_sums = M.sum(axis=0)\n",
    "for j in range(N):\n",
    "    if column_sums[j] > 0:\n",
    "        M[:, j] /= column_sums[j]\n",
    "# print M\n",
    "print(\"M shape: \", M.shape)"
   ]
  },
  {
   "cell_type": "code",
   "execution_count": null,
   "metadata": {},
   "outputs": [],
   "source": []
  }
 ],
 "metadata": {
  "kernelspec": {
   "display_name": "Python 3 (ipykernel)",
   "language": "python",
   "name": "python3"
  },
  "language_info": {
   "codemirror_mode": {
    "name": "ipython",
    "version": 3
   },
   "file_extension": ".py",
   "mimetype": "text/x-python",
   "name": "python",
   "nbconvert_exporter": "python",
   "pygments_lexer": "ipython3",
   "version": "3.11.4"
  }
 },
 "nbformat": 4,
 "nbformat_minor": 2
}
